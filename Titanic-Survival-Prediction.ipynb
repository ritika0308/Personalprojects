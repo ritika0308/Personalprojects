{
 "cells": [
  {
   "cell_type": "code",
   "execution_count": 1,
   "id": "464010ab",
   "metadata": {},
   "outputs": [],
   "source": [
    "import pandas as pd\n",
    "import numpy as np\n",
    "from sklearn.model_selection import train_test_split #it will be used to split the dataframe into train and test data"
   ]
  },
  {
   "cell_type": "code",
   "execution_count": 2,
   "id": "8becd97b",
   "metadata": {},
   "outputs": [
    {
     "data": {
      "text/html": [
       "<div>\n",
       "<style scoped>\n",
       "    .dataframe tbody tr th:only-of-type {\n",
       "        vertical-align: middle;\n",
       "    }\n",
       "\n",
       "    .dataframe tbody tr th {\n",
       "        vertical-align: top;\n",
       "    }\n",
       "\n",
       "    .dataframe thead th {\n",
       "        text-align: right;\n",
       "    }\n",
       "</style>\n",
       "<table border=\"1\" class=\"dataframe\">\n",
       "  <thead>\n",
       "    <tr style=\"text-align: right;\">\n",
       "      <th></th>\n",
       "      <th>pclass</th>\n",
       "      <th>sex</th>\n",
       "      <th>age&gt;40</th>\n",
       "      <th>survived</th>\n",
       "    </tr>\n",
       "  </thead>\n",
       "  <tbody>\n",
       "    <tr>\n",
       "      <th>0</th>\n",
       "      <td>1</td>\n",
       "      <td>0</td>\n",
       "      <td>0</td>\n",
       "      <td>1</td>\n",
       "    </tr>\n",
       "    <tr>\n",
       "      <th>1</th>\n",
       "      <td>1</td>\n",
       "      <td>1</td>\n",
       "      <td>0</td>\n",
       "      <td>1</td>\n",
       "    </tr>\n",
       "    <tr>\n",
       "      <th>2</th>\n",
       "      <td>1</td>\n",
       "      <td>0</td>\n",
       "      <td>0</td>\n",
       "      <td>0</td>\n",
       "    </tr>\n",
       "    <tr>\n",
       "      <th>3</th>\n",
       "      <td>1</td>\n",
       "      <td>1</td>\n",
       "      <td>0</td>\n",
       "      <td>0</td>\n",
       "    </tr>\n",
       "    <tr>\n",
       "      <th>4</th>\n",
       "      <td>1</td>\n",
       "      <td>0</td>\n",
       "      <td>0</td>\n",
       "      <td>0</td>\n",
       "    </tr>\n",
       "  </tbody>\n",
       "</table>\n",
       "</div>"
      ],
      "text/plain": [
       "   pclass  sex  age>40  survived\n",
       "0       1    0       0         1\n",
       "1       1    1       0         1\n",
       "2       1    0       0         0\n",
       "3       1    1       0         0\n",
       "4       1    0       0         0"
      ]
     },
     "execution_count": 2,
     "metadata": {},
     "output_type": "execute_result"
    }
   ],
   "source": [
    "#importing the titanic file and storing it as 'titanic' dataframe\n",
    "titanic = pd.read_csv(\"titanic.csv\")\n",
    "titanic.head()"
   ]
  },
  {
   "cell_type": "code",
   "execution_count": 3,
   "id": "e7435659",
   "metadata": {},
   "outputs": [],
   "source": [
    "from sklearn.tree import DecisionTreeClassifier #this is to create a decisiontreeclassifier\n",
    "from sklearn import metrics #this is to measure the accuracy of the predicted data"
   ]
  },
  {
   "cell_type": "code",
   "execution_count": 4,
   "id": "8c4e3272",
   "metadata": {},
   "outputs": [],
   "source": [
    "feature_cols = ['pclass', 'sex', 'age>40'] #identifying the features in the dataset based on which the target variable is predicted"
   ]
  },
  {
   "cell_type": "code",
   "execution_count": 5,
   "id": "1abcbed9",
   "metadata": {},
   "outputs": [],
   "source": [
    "features = titanic[feature_cols] #storing the data of these columns in a variable"
   ]
  },
  {
   "cell_type": "code",
   "execution_count": 6,
   "id": "164e7a04",
   "metadata": {},
   "outputs": [],
   "source": [
    "target_var = titanic.survived #our target variable here is survived column from the dataframe"
   ]
  },
  {
   "cell_type": "code",
   "execution_count": 7,
   "id": "438763c6",
   "metadata": {},
   "outputs": [],
   "source": [
    "dtclassifier = DecisionTreeClassifier() #initializing the decisiontreeclassifier"
   ]
  },
  {
   "cell_type": "code",
   "execution_count": 8,
   "id": "c16c3e97",
   "metadata": {},
   "outputs": [],
   "source": [
    "features_train, features_test, target_var_train, target_var_test = train_test_split(features, target_var, test_size=0.2, shuffle= True)\n",
    "#the function takes the input of two datasets features and target_var which is then split into train and test data\n",
    "#the test_size we have choosen as 0.2 which means the training data will be 0.8\n",
    "#and shuffle = true which means that the data is shuffled before splitting"
   ]
  },
  {
   "cell_type": "code",
   "execution_count": 9,
   "id": "c78e0e59",
   "metadata": {},
   "outputs": [],
   "source": [
    "dtc = dtclassifier.fit(features_train, target_var_train)\n",
    "#here we are using both the training datasets and using the decisiontreeclassifier to fit the data"
   ]
  },
  {
   "cell_type": "code",
   "execution_count": 10,
   "id": "1cb94341",
   "metadata": {},
   "outputs": [],
   "source": [
    "target_pred = dtc.predict(features_test)\n",
    "#the features test data is then used for predicting with the help of predict function"
   ]
  },
  {
   "cell_type": "code",
   "execution_count": 11,
   "id": "a24e15a5",
   "metadata": {},
   "outputs": [
    {
     "name": "stdout",
     "output_type": "stream",
     "text": [
      "Accuracy: 0.784688995215311\n"
     ]
    }
   ],
   "source": [
    "print(\"Accuracy:\", metrics.accuracy_score(target_var_test, target_pred))\n",
    "#to check the accuracy of this prediction we then use the accuracy_score function which is present in metrics class\n",
    "#here the inputs to this function are the test dataset of the target variable which is survived and the second input is\n",
    "#the target which was predicted in the above step"
   ]
  },
  {
   "cell_type": "code",
   "execution_count": 12,
   "id": "da52c31c",
   "metadata": {},
   "outputs": [],
   "source": [
    "######################################################################################################################"
   ]
  },
  {
   "cell_type": "code",
   "execution_count": 13,
   "id": "5f63bbac",
   "metadata": {},
   "outputs": [],
   "source": [
    "################################################ PART - 2 ############################################################"
   ]
  },
  {
   "cell_type": "code",
   "execution_count": 14,
   "id": "20f7b9ba",
   "metadata": {},
   "outputs": [],
   "source": [
    "#importing the spamdata file and storing it as 'spamdata' dataframe\n",
    "spamdata = pd.read_csv(\"spamdata.csv\", delim_whitespace=True)"
   ]
  },
  {
   "cell_type": "code",
   "execution_count": 15,
   "id": "619eebe6",
   "metadata": {},
   "outputs": [
    {
     "data": {
      "text/html": [
       "<div>\n",
       "<style scoped>\n",
       "    .dataframe tbody tr th:only-of-type {\n",
       "        vertical-align: middle;\n",
       "    }\n",
       "\n",
       "    .dataframe tbody tr th {\n",
       "        vertical-align: top;\n",
       "    }\n",
       "\n",
       "    .dataframe thead th {\n",
       "        text-align: right;\n",
       "    }\n",
       "</style>\n",
       "<table border=\"1\" class=\"dataframe\">\n",
       "  <thead>\n",
       "    <tr style=\"text-align: right;\">\n",
       "      <th></th>\n",
       "      <th>word_freq_make</th>\n",
       "      <th>word_freq_address</th>\n",
       "      <th>word_freq_all</th>\n",
       "      <th>word_freq_3d</th>\n",
       "      <th>word_freq_our</th>\n",
       "      <th>word_freq_over</th>\n",
       "      <th>word_freq_remove</th>\n",
       "      <th>word_freq_internet</th>\n",
       "      <th>word_freq_order</th>\n",
       "      <th>word_freq_mail</th>\n",
       "      <th>...</th>\n",
       "      <th>char_freq_;</th>\n",
       "      <th>char_freq_(</th>\n",
       "      <th>char_freq_[</th>\n",
       "      <th>char_freq_!</th>\n",
       "      <th>char_freq_$</th>\n",
       "      <th>char_freq_#</th>\n",
       "      <th>capital_run_length_average</th>\n",
       "      <th>capital_run_length_longest</th>\n",
       "      <th>capital_run_length_total</th>\n",
       "      <th>isSPAM</th>\n",
       "    </tr>\n",
       "  </thead>\n",
       "  <tbody>\n",
       "    <tr>\n",
       "      <th>0</th>\n",
       "      <td>0.00</td>\n",
       "      <td>0.64</td>\n",
       "      <td>0.64</td>\n",
       "      <td>0.0</td>\n",
       "      <td>0.32</td>\n",
       "      <td>0.00</td>\n",
       "      <td>0.00</td>\n",
       "      <td>0.00</td>\n",
       "      <td>0.00</td>\n",
       "      <td>0.00</td>\n",
       "      <td>...</td>\n",
       "      <td>0.00</td>\n",
       "      <td>0.000</td>\n",
       "      <td>0.0</td>\n",
       "      <td>0.778</td>\n",
       "      <td>0.000</td>\n",
       "      <td>0.000</td>\n",
       "      <td>3.756</td>\n",
       "      <td>61</td>\n",
       "      <td>278</td>\n",
       "      <td>1</td>\n",
       "    </tr>\n",
       "    <tr>\n",
       "      <th>1</th>\n",
       "      <td>0.21</td>\n",
       "      <td>0.28</td>\n",
       "      <td>0.50</td>\n",
       "      <td>0.0</td>\n",
       "      <td>0.14</td>\n",
       "      <td>0.28</td>\n",
       "      <td>0.21</td>\n",
       "      <td>0.07</td>\n",
       "      <td>0.00</td>\n",
       "      <td>0.94</td>\n",
       "      <td>...</td>\n",
       "      <td>0.00</td>\n",
       "      <td>0.132</td>\n",
       "      <td>0.0</td>\n",
       "      <td>0.372</td>\n",
       "      <td>0.180</td>\n",
       "      <td>0.048</td>\n",
       "      <td>5.114</td>\n",
       "      <td>101</td>\n",
       "      <td>1028</td>\n",
       "      <td>1</td>\n",
       "    </tr>\n",
       "    <tr>\n",
       "      <th>2</th>\n",
       "      <td>0.06</td>\n",
       "      <td>0.00</td>\n",
       "      <td>0.71</td>\n",
       "      <td>0.0</td>\n",
       "      <td>1.23</td>\n",
       "      <td>0.19</td>\n",
       "      <td>0.19</td>\n",
       "      <td>0.12</td>\n",
       "      <td>0.64</td>\n",
       "      <td>0.25</td>\n",
       "      <td>...</td>\n",
       "      <td>0.01</td>\n",
       "      <td>0.143</td>\n",
       "      <td>0.0</td>\n",
       "      <td>0.276</td>\n",
       "      <td>0.184</td>\n",
       "      <td>0.010</td>\n",
       "      <td>9.821</td>\n",
       "      <td>485</td>\n",
       "      <td>2259</td>\n",
       "      <td>1</td>\n",
       "    </tr>\n",
       "    <tr>\n",
       "      <th>3</th>\n",
       "      <td>0.00</td>\n",
       "      <td>0.00</td>\n",
       "      <td>0.00</td>\n",
       "      <td>0.0</td>\n",
       "      <td>0.63</td>\n",
       "      <td>0.00</td>\n",
       "      <td>0.31</td>\n",
       "      <td>0.63</td>\n",
       "      <td>0.31</td>\n",
       "      <td>0.63</td>\n",
       "      <td>...</td>\n",
       "      <td>0.00</td>\n",
       "      <td>0.137</td>\n",
       "      <td>0.0</td>\n",
       "      <td>0.137</td>\n",
       "      <td>0.000</td>\n",
       "      <td>0.000</td>\n",
       "      <td>3.537</td>\n",
       "      <td>40</td>\n",
       "      <td>191</td>\n",
       "      <td>1</td>\n",
       "    </tr>\n",
       "    <tr>\n",
       "      <th>4</th>\n",
       "      <td>0.00</td>\n",
       "      <td>0.00</td>\n",
       "      <td>0.00</td>\n",
       "      <td>0.0</td>\n",
       "      <td>0.63</td>\n",
       "      <td>0.00</td>\n",
       "      <td>0.31</td>\n",
       "      <td>0.63</td>\n",
       "      <td>0.31</td>\n",
       "      <td>0.63</td>\n",
       "      <td>...</td>\n",
       "      <td>0.00</td>\n",
       "      <td>0.135</td>\n",
       "      <td>0.0</td>\n",
       "      <td>0.135</td>\n",
       "      <td>0.000</td>\n",
       "      <td>0.000</td>\n",
       "      <td>3.537</td>\n",
       "      <td>40</td>\n",
       "      <td>191</td>\n",
       "      <td>1</td>\n",
       "    </tr>\n",
       "  </tbody>\n",
       "</table>\n",
       "<p>5 rows × 58 columns</p>\n",
       "</div>"
      ],
      "text/plain": [
       "   word_freq_make  word_freq_address  word_freq_all  word_freq_3d  \\\n",
       "0            0.00               0.64           0.64           0.0   \n",
       "1            0.21               0.28           0.50           0.0   \n",
       "2            0.06               0.00           0.71           0.0   \n",
       "3            0.00               0.00           0.00           0.0   \n",
       "4            0.00               0.00           0.00           0.0   \n",
       "\n",
       "   word_freq_our  word_freq_over  word_freq_remove  word_freq_internet  \\\n",
       "0           0.32            0.00              0.00                0.00   \n",
       "1           0.14            0.28              0.21                0.07   \n",
       "2           1.23            0.19              0.19                0.12   \n",
       "3           0.63            0.00              0.31                0.63   \n",
       "4           0.63            0.00              0.31                0.63   \n",
       "\n",
       "   word_freq_order  word_freq_mail  ...  char_freq_;  char_freq_(  \\\n",
       "0             0.00            0.00  ...         0.00        0.000   \n",
       "1             0.00            0.94  ...         0.00        0.132   \n",
       "2             0.64            0.25  ...         0.01        0.143   \n",
       "3             0.31            0.63  ...         0.00        0.137   \n",
       "4             0.31            0.63  ...         0.00        0.135   \n",
       "\n",
       "   char_freq_[  char_freq_!  char_freq_$  char_freq_#  \\\n",
       "0          0.0        0.778        0.000        0.000   \n",
       "1          0.0        0.372        0.180        0.048   \n",
       "2          0.0        0.276        0.184        0.010   \n",
       "3          0.0        0.137        0.000        0.000   \n",
       "4          0.0        0.135        0.000        0.000   \n",
       "\n",
       "   capital_run_length_average  capital_run_length_longest  \\\n",
       "0                       3.756                          61   \n",
       "1                       5.114                         101   \n",
       "2                       9.821                         485   \n",
       "3                       3.537                          40   \n",
       "4                       3.537                          40   \n",
       "\n",
       "   capital_run_length_total  isSPAM  \n",
       "0                       278       1  \n",
       "1                      1028       1  \n",
       "2                      2259       1  \n",
       "3                       191       1  \n",
       "4                       191       1  \n",
       "\n",
       "[5 rows x 58 columns]"
      ]
     },
     "execution_count": 15,
     "metadata": {},
     "output_type": "execute_result"
    }
   ],
   "source": [
    "spamdata.head()"
   ]
  },
  {
   "cell_type": "code",
   "execution_count": 16,
   "id": "247fd857",
   "metadata": {},
   "outputs": [
    {
     "data": {
      "text/plain": [
       "Index(['word_freq_make', 'word_freq_address', 'word_freq_all', 'word_freq_3d',\n",
       "       'word_freq_our', 'word_freq_over', 'word_freq_remove',\n",
       "       'word_freq_internet', 'word_freq_order', 'word_freq_mail',\n",
       "       'word_freq_receive', 'word_freq_will', 'word_freq_people',\n",
       "       'word_freq_report', 'word_freq_addresses', 'word_freq_free',\n",
       "       'word_freq_business', 'word_freq_email', 'word_freq_you',\n",
       "       'word_freq_credit', 'word_freq_your', 'word_freq_font', 'word_freq_000',\n",
       "       'word_freq_money', 'word_freq_hp', 'word_freq_hpl', 'word_freq_george',\n",
       "       'word_freq_650', 'word_freq_lab', 'word_freq_labs', 'word_freq_telnet',\n",
       "       'word_freq_857', 'word_freq_data', 'word_freq_415', 'word_freq_85',\n",
       "       'word_freq_technology', 'word_freq_1999', 'word_freq_parts',\n",
       "       'word_freq_pm', 'word_freq_direct', 'word_freq_cs', 'word_freq_meeting',\n",
       "       'word_freq_original', 'word_freq_project', 'word_freq_re',\n",
       "       'word_freq_edu', 'word_freq_table', 'word_freq_conference',\n",
       "       'char_freq_;', 'char_freq_(', 'char_freq_[', 'char_freq_!',\n",
       "       'char_freq_$', 'char_freq_#', 'capital_run_length_average',\n",
       "       'capital_run_length_longest', 'capital_run_length_total', 'isSPAM'],\n",
       "      dtype='object')"
      ]
     },
     "execution_count": 16,
     "metadata": {},
     "output_type": "execute_result"
    }
   ],
   "source": [
    "spamdata.columns"
   ]
  },
  {
   "cell_type": "code",
   "execution_count": 17,
   "id": "1e7b214f",
   "metadata": {},
   "outputs": [],
   "source": [
    "features_spamdata_cols = ['word_freq_make', 'word_freq_address', 'word_freq_all', 'word_freq_3d',\n",
    "       'word_freq_our', 'word_freq_over', 'word_freq_remove',\n",
    "       'word_freq_internet', 'word_freq_order', 'word_freq_mail',\n",
    "       'word_freq_receive', 'word_freq_will', 'word_freq_people',\n",
    "       'word_freq_report', 'word_freq_addresses', 'word_freq_free',\n",
    "       'word_freq_business', 'word_freq_email', 'word_freq_you',\n",
    "       'word_freq_credit', 'word_freq_your', 'word_freq_font', 'word_freq_000',\n",
    "       'word_freq_money', 'word_freq_hp', 'word_freq_hpl', 'word_freq_george',\n",
    "       'word_freq_650', 'word_freq_lab', 'word_freq_labs', 'word_freq_telnet',\n",
    "       'word_freq_857', 'word_freq_data', 'word_freq_415', 'word_freq_85',\n",
    "       'word_freq_technology', 'word_freq_1999', 'word_freq_parts',\n",
    "       'word_freq_pm', 'word_freq_direct', 'word_freq_cs', 'word_freq_meeting',\n",
    "       'word_freq_original', 'word_freq_project', 'word_freq_re',\n",
    "       'word_freq_edu', 'word_freq_table', 'word_freq_conference',\n",
    "       'char_freq_;', 'char_freq_(', 'char_freq_[', 'char_freq_!',\n",
    "       'char_freq_$', 'char_freq_#', 'capital_run_length_average',\n",
    "       'capital_run_length_longest', 'capital_run_length_total']\n",
    "#identifying the features in the dataset based on which the target variable is predicted"
   ]
  },
  {
   "cell_type": "code",
   "execution_count": 18,
   "id": "36821ac6",
   "metadata": {},
   "outputs": [],
   "source": [
    "features_spamdata = spamdata[features_spamdata_cols]\n",
    "#storing the data of these columns in a variable"
   ]
  },
  {
   "cell_type": "code",
   "execution_count": 19,
   "id": "7fd61456",
   "metadata": {},
   "outputs": [],
   "source": [
    "target_var_spamdata = spamdata.isSPAM \n",
    "#our target variable here is isSPAM column from the dataframe"
   ]
  },
  {
   "cell_type": "code",
   "execution_count": 20,
   "id": "5055e433",
   "metadata": {},
   "outputs": [],
   "source": [
    "features_spamdata_train, features_spamdata_test, target_var_spamdata_train, target_var_spamdata_test = train_test_split(features_spamdata, target_var_spamdata, test_size=0.2)\n",
    "#the function takes the input of two datasets features and target_var which is then split into train and test data\n",
    "#the test_size we have choosen as 0.2 which means the training data will be 0.8"
   ]
  },
  {
   "cell_type": "code",
   "execution_count": 21,
   "id": "b2875324",
   "metadata": {},
   "outputs": [],
   "source": [
    "from sklearn.linear_model import LogisticRegression\n",
    "#importing the LogicsticRegression model from sklearn"
   ]
  },
  {
   "cell_type": "code",
   "execution_count": 22,
   "id": "0abc33c2",
   "metadata": {},
   "outputs": [],
   "source": [
    "LogReg = LogisticRegression(solver='lbfgs', max_iter= 1000000)\n",
    "#initializing the LogisticRegression model with the required amount of maximum iterations to avoid convergence warning"
   ]
  },
  {
   "cell_type": "code",
   "execution_count": 23,
   "id": "33eb7b09",
   "metadata": {},
   "outputs": [
    {
     "data": {
      "text/plain": [
       "LogisticRegression(max_iter=1000000)"
      ]
     },
     "execution_count": 23,
     "metadata": {},
     "output_type": "execute_result"
    }
   ],
   "source": [
    "LogReg.fit(features_spamdata_train, target_var_spamdata_train)\n",
    "#entering the training data in the logistic regression model"
   ]
  },
  {
   "cell_type": "code",
   "execution_count": 24,
   "id": "5a1c5db0",
   "metadata": {},
   "outputs": [],
   "source": [
    "IsSpam_Pred_Test = LogReg.predict(features_spamdata_test) \n",
    "#predicting from the test data"
   ]
  },
  {
   "cell_type": "code",
   "execution_count": 25,
   "id": "a63a652a",
   "metadata": {},
   "outputs": [],
   "source": [
    "IsSpam_Pred_Train = LogReg.predict(features_spamdata_train)\n",
    "#predicting from the trained data"
   ]
  },
  {
   "cell_type": "code",
   "execution_count": 26,
   "id": "5500c4de",
   "metadata": {},
   "outputs": [
    {
     "name": "stdout",
     "output_type": "stream",
     "text": [
      "Accuracy of test dataset: 0.9174809989142236\n"
     ]
    }
   ],
   "source": [
    "print(\"Accuracy of test dataset:\", metrics.accuracy_score(target_var_spamdata_test, IsSpam_Pred_Test))\n",
    "#Accuary of the target variable (\"Is Spam\") test data is"
   ]
  },
  {
   "cell_type": "code",
   "execution_count": 27,
   "id": "c712b269",
   "metadata": {},
   "outputs": [
    {
     "name": "stdout",
     "output_type": "stream",
     "text": [
      "Accuracy of train dataset: 0.9328804347826087\n"
     ]
    }
   ],
   "source": [
    "print(\"Accuracy of train dataset:\", metrics.accuracy_score(target_var_spamdata_train, IsSpam_Pred_Train))\n",
    "#Accuary of the target variable (\"Is Spam\") Train data is"
   ]
  },
  {
   "cell_type": "code",
   "execution_count": 28,
   "id": "e27cf14d",
   "metadata": {},
   "outputs": [],
   "source": [
    "from sklearn.model_selection import KFold\n",
    "cv = KFold(n_splits=10)\n",
    "#as the ask is to evaluate the model with k = 10 folds using the above equation to perform the same."
   ]
  },
  {
   "cell_type": "code",
   "execution_count": 29,
   "id": "2a31f242",
   "metadata": {},
   "outputs": [],
   "source": [
    "from sklearn.model_selection import cross_val_score #to find the accuracy after performing crossvalidation of k =10 folds\n",
    "scores_trainset = cross_val_score(LogisticRegression(solver='lbfgs', max_iter= 1000000), features_spamdata_train, target_var_spamdata_train, scoring='accuracy', cv=cv)\n",
    "#the inputs here are the model which we want to perform cross validation i.e LogisiticRegression\n",
    "#features of the train spamdata and the train target variable for which we will be making predictions\n",
    "#cv is crossvalidate and we have mentioned in the above line of code the number of K folds we required"
   ]
  },
  {
   "cell_type": "code",
   "execution_count": 30,
   "id": "a70213e8",
   "metadata": {},
   "outputs": [
    {
     "name": "stdout",
     "output_type": "stream",
     "text": [
      "Accuracy of train dataset: 0.932\n"
     ]
    }
   ],
   "source": [
    "from numpy import mean\n",
    "print('Accuracy of train dataset: %.3f' % (mean(scores_trainset)))\n",
    "#printing the mean of the train scores after applying k=10 folds"
   ]
  },
  {
   "cell_type": "code",
   "execution_count": 31,
   "id": "1b71ae1a",
   "metadata": {},
   "outputs": [],
   "source": [
    "scores_testset = cross_val_score(LogisticRegression(solver='lbfgs', max_iter= 1000000), features_spamdata_test, target_var_spamdata_test, scoring='accuracy', cv=cv)\n",
    "#the inputs here are the model which we want to perform cross validation i.e LogisiticRegression\n",
    "#features of the test spamdata and the test target variable for which we will be making predictions\n",
    "#cv is crossvalidate and we have mentioned in the above line of code the number of K folds we required"
   ]
  },
  {
   "cell_type": "code",
   "execution_count": 32,
   "id": "634b7ebf",
   "metadata": {},
   "outputs": [
    {
     "name": "stdout",
     "output_type": "stream",
     "text": [
      "Accuracy of test dataset: 0.914\n"
     ]
    }
   ],
   "source": [
    "print('Accuracy of test dataset: %.3f' % (mean(scores_testset)))\n",
    "#printing the mean of the test scores after applying k=10 folds"
   ]
  }
 ],
 "metadata": {
  "kernelspec": {
   "display_name": "Python 3 (ipykernel)",
   "language": "python",
   "name": "python3"
  },
  "language_info": {
   "codemirror_mode": {
    "name": "ipython",
    "version": 3
   },
   "file_extension": ".py",
   "mimetype": "text/x-python",
   "name": "python",
   "nbconvert_exporter": "python",
   "pygments_lexer": "ipython3",
   "version": "3.8.8"
  }
 },
 "nbformat": 4,
 "nbformat_minor": 5
}
